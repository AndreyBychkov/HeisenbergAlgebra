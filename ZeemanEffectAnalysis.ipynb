{
 "cells": [
  {
   "cell_type": "markdown",
   "source": [
    "Имеем абстрактную алгебру Ли, заданную следующими базовыми коммутаторами:\n",
    "* $[S_1, S_2] = -\\frac{ih}{2}(S_0 S_3 + S_3 S_0)$\n",
    "* $[S_2, S_3] = \\frac{ih}{2}(S_0 S_1 + S_1 S_0)$\n",
    "* $[S_3, S_1] = \\frac{ih}{2}(S_0 S_2 + S_2 S_0)$\n",
    "\n",
    "\n",
    "* $[S_0, S_1] = -2ihS_2$\n",
    "* $[S_0, S_2] = 2ihS_1$\n",
    "* $[S_0, S_3] = 0$"
   ],
   "metadata": {
    "collapsed": false,
    "pycharm": {
     "name": "#%% md\n"
    }
   }
  },
  {
   "cell_type": "markdown",
   "source": [
    "## Задание 1\n",
    "\n",
    "Зададим структуру \"рождение-уничтожение\" по формулам\n",
    "* $C = S_1 + iS_2$\n",
    "* $B = S_1 - iS_2$\n",
    "* $A_1 = S_0$\n",
    "* $A_2 = S_3$"
   ],
   "metadata": {
    "collapsed": false,
    "pycharm": {
     "name": "#%% md\n"
    }
   }
  },
  {
   "cell_type": "code",
   "execution_count": 1,
   "metadata": {
    "collapsed": true
   },
   "outputs": [],
   "source": [
    "import sympy as sp\n",
    "from sympy import I\n",
    "from sympy.physics.quantum import Commutator, Operator\n",
    "\n",
    "sp.init_printing()\n",
    "\n",
    "# Зададим операторы\n",
    "S0, S1, S2, S3 = list(map(Operator, ['S_0', 'S_1', 'S_2', 'S_3']))\n",
    "A1, A2, C, B = list(map(Operator, ['A_1', 'A_2', 'C', 'B']))\n",
    "h = sp.Symbol(\"h\")\n",
    "\n",
    "# Зададим входную алгебру\n",
    "commutator_map = {\n",
    "    Commutator(S1, S2): -I * h / 2 * (S0 * S3 + S3 * S0),\n",
    "    Commutator(S2, S3): I * h / 2 * (S0 * S1 + S1 * S0),\n",
    "    Commutator(S3, S1): I * h / 2 * (S0 * S2 + S2 * S0),\n",
    "    Commutator(S0, S1): -2 * h * I * S2,\n",
    "    Commutator(S0, S2): 2 * h * I * S1,\n",
    "    Commutator(S0, S3): 0\n",
    "}\n",
    "\n",
    "to_new_algebra = {\n",
    "    S0: A1,\n",
    "    S3: A2,\n",
    "    S1 + I * S2: C,\n",
    "    S1 - I * S2: B\n",
    "}\n",
    "\n",
    "to_old_algebra = dict((v, k) for k, v in to_new_algebra.items())"
   ]
  },
  {
   "cell_type": "markdown",
   "source": [
    "### 1. Вычислим $[C, B]$"
   ],
   "metadata": {
    "collapsed": false,
    "pycharm": {
     "name": "#%% md\n"
    }
   }
  },
  {
   "cell_type": "code",
   "execution_count": 2,
   "outputs": [
    {
     "data": {
      "text/plain": "-h⋅(A₁⋅A₂ + A₂⋅A₁)",
      "image/png": "[encoded data removed]",
      "text/latex": "$\\displaystyle - h \\left(A_{1} A_{2} + A_{2} A_{1}\\right)$"
     },
     "execution_count": 2,
     "metadata": {},
     "output_type": "execute_result"
    }
   ],
   "source": [
    "Commutator(C, B)\\\n",
    "    .subs(to_old_algebra)\\\n",
    "    .expand(commutator=True).expand(commutator=True)\\\n",
    "    .subs(commutator_map)\\\n",
    "    .factor()\\\n",
    "    .subs(to_new_algebra)"
   ],
   "metadata": {
    "collapsed": false,
    "pycharm": {
     "name": "#%%\n"
    }
   }
  },
  {
   "cell_type": "markdown",
   "source": [
    "$[C, B] = -h(A_1 A_2 + A_2 A_1)$"
   ],
   "metadata": {
    "collapsed": false,
    "pycharm": {
     "name": "#%% md\n"
    }
   }
  },
  {
   "cell_type": "markdown",
   "source": [
    "### 2. Найдём $\\phi(A)$ из выражений $CA = \\phi(A) C$, $AB = B \\phi(A)$\n",
    "\n",
    "Как вариант, найдем $\\phi$ из второго равенства.\n",
    "В ходе дальнейшей проверки, найденная функция $\\phi$ подтвердилась и для первого равенства."
   ],
   "metadata": {
    "collapsed": false,
    "pycharm": {
     "name": "#%% md\n"
    }
   }
  },
  {
   "cell_type": "markdown",
   "source": [
    "#### 2.1. Найдём $\\phi_1(A)$\n",
    "Воспользуемся коммутатором $[A_1, B] = A_1 B - B A_1$. Тогда $A_1 B = [A_1, B] + B A_1$\n",
    "\n",
    "Сейчас вычислим коммутатор."
   ],
   "metadata": {
    "collapsed": false,
    "pycharm": {
     "name": "#%% md\n"
    }
   }
  },
  {
   "cell_type": "code",
   "execution_count": 3,
   "outputs": [
    {
     "data": {
      "text/plain": "2⋅h⋅B",
      "image/png": "[encoded data removed]",
      "text/latex": "$\\displaystyle 2 h B$"
     },
     "execution_count": 3,
     "metadata": {},
     "output_type": "execute_result"
    }
   ],
   "source": [
    "Commutator(A1, B)\\\n",
    "    .subs(to_old_algebra)\\\n",
    "    .expand(commutator=True).expand(commutator=True)\\\n",
    "    .subs(commutator_map)\\\n",
    "    .factor()\\\n",
    "    .subs(to_new_algebra)"
   ],
   "metadata": {
    "collapsed": false,
    "pycharm": {
     "name": "#%%\n"
    }
   }
  },
  {
   "cell_type": "markdown",
   "source": [
    "Получили $A_1 B = 2hB + B A_1 = B(2h + A_1)$\n",
    "\n",
    "$\\phi_1(A) = 2h + A_1$\n",
    "\n",
    "Несложно убедиться, что для в формуле с $C$ получим то же самое."
   ],
   "metadata": {
    "collapsed": false,
    "pycharm": {
     "name": "#%% md\n"
    }
   }
  },
  {
   "cell_type": "code",
   "execution_count": 4,
   "outputs": [
    {
     "data": {
      "text/plain": "2⋅h⋅C",
      "image/png": "[encoded data removed]",
      "text/latex": "$\\displaystyle 2 h C$"
     },
     "execution_count": 4,
     "metadata": {},
     "output_type": "execute_result"
    }
   ],
   "source": [
    "Commutator(C, A1)\\\n",
    "    .subs(to_old_algebra)\\\n",
    "    .expand(commutator=True).expand(commutator=True)\\\n",
    "    .subs(commutator_map)\\\n",
    "    .factor()\\\n",
    "    .subs(to_new_algebra)"
   ],
   "metadata": {
    "collapsed": false,
    "pycharm": {
     "name": "#%%\n"
    }
   }
  },
  {
   "cell_type": "markdown",
   "source": [
    "#### 2.2. Найдём $\\phi_2(A)$\n",
    "\n",
    "Воспользуемся коммутатором $[A_2, B] = A_2 B - B A_2$. Тогда $A_2 B = [A_2, B] + B A_2$\n",
    "\n",
    "Вычислим коммутатор."
   ],
   "metadata": {
    "collapsed": false,
    "pycharm": {
     "name": "#%% md\n"
    }
   }
  },
  {
   "cell_type": "code",
   "source": [
    "Commutator(A2, B)\\\n",
    "    .subs(to_old_algebra)\\\n",
    "    .expand(commutator=True).expand(commutator=True)\\\n",
    "    .subs(commutator_map)\\\n",
    "    .cancel()\\\n",
    "    .apart()\\\n",
    "    .subs(to_old_algebra[B], B)"
   ],
   "metadata": {
    "collapsed": false,
    "pycharm": {
     "name": "#%%\n"
    }
   },
   "execution_count": 5,
   "outputs": [
    {
     "data": {
      "text/plain": "h⋅(-(S₀⋅S₁ + S₁⋅S₀) + ⅈ⋅(S₀⋅S₂ + S₂⋅S₀))\n────────────────────────────────────────\n                   2                    ",
      "image/png": "[encoded data removed]",
      "text/latex": "$\\displaystyle \\frac{h \\left(- (S_{0} S_{1} + S_{1} S_{0}) + i \\left(S_{0} S_{2} + S_{2} S_{0}\\right)\\right)}{2}$"
     },
     "execution_count": 5,
     "metadata": {},
     "output_type": "execute_result"
    }
   ]
  },
  {
   "cell_type": "markdown",
   "source": [
    "Доведём дело до конца:\n",
    "$[A_2, B] = -\\frac{h}{2}\\Big(S_0 (S_1 - iS_2) + (S_1 - iS_2)S_0\\Big) = -\\frac{h}{2}\\Big(A_1 B + B A_1\\Big)$\n",
    "\n",
    "$A_1 B$ мы уже вычисляли, и, в итоге получим\n",
    "\n",
    "$A_2 B = B(A_2 - hA_1 - h^2)$\n",
    "\n",
    "$\\phi_2(A) = A_2 - hA_1 - h^2$"
   ],
   "metadata": {
    "collapsed": false,
    "pycharm": {
     "name": "#%% md\n"
    }
   }
  },
  {
   "cell_type": "markdown",
   "source": [
    "### 3. Доказательство $[A_{\\mu}, A_{\\nu}]$ тривиально."
   ],
   "metadata": {
    "collapsed": false,
    "pycharm": {
     "name": "#%% md\n"
    }
   }
  },
  {
   "cell_type": "markdown",
   "source": [
    "## Задание 2\n",
    "\n",
    "Найти оператор Казимира $K$\n",
    "\n",
    "**Теорема**\n",
    "1. Если $\\rho(\\phi(A)) - \\rho(A) = f(A)$, то $\\hat K = \\hat B \\hat C - \\rho(\\hat A)$\n",
    "2. Если $\\kappa(\\phi(A)) = \\kappa(A),\\ len(A) > 1$, то $\\hat \\kappa = \\kappa(\\hat A)$ - оператор Казимира."
   ],
   "metadata": {
    "collapsed": false,
    "pycharm": {
     "name": "#%% md\n"
    }
   }
  },
  {
   "cell_type": "markdown",
   "source": [
    "#### 1. Поиск в виде $\\kappa(A)$\n",
    "\n",
    "В начале подбора $\\kappa$ в виде полиномиальной функции с помощью метода неопределённых коэффициентов выяснилось, что\n",
    "$\\kappa(A_1, A_2) = A_1 A_2 - A_2 A_1 = [A_1, A_2]$\n",
    "\n",
    "Действительно:"
   ],
   "metadata": {
    "collapsed": false,
    "pycharm": {
     "name": "#%% md\n"
    }
   }
  },
  {
   "cell_type": "code",
   "execution_count": 6,
   "outputs": [
    {
     "data": {
      "text/plain": "0",
      "image/png": "[encoded data removed]",
      "text/latex": "$\\displaystyle 0$"
     },
     "execution_count": 6,
     "metadata": {},
     "output_type": "execute_result"
    }
   ],
   "source": [
    "def phi(A1, A2):\n",
    "    return (A1 + 2*h, A2 - h*A1 - h**2)\n",
    "\n",
    "\n",
    "def kappa(A1, A2):\n",
    "    return A1 * A2 - A2 * A1\n",
    "\n",
    "\n",
    "kappa(*phi(A1, A2)).expand() - kappa(A1, A2)"
   ],
   "metadata": {
    "collapsed": false,
    "pycharm": {
     "name": "#%%\n"
    }
   }
  },
  {
   "cell_type": "markdown",
   "source": [
    "Тогда оператор Казимира: $\\hat{\\kappa} = \\kappa({\\hat A})$"
   ],
   "metadata": {
    "collapsed": false,
    "pycharm": {
     "name": "#%% md\n"
    }
   }
  },
  {
   "cell_type": "markdown",
   "source": [
    "#### 1. Поиск в виде $\\rho(A)$\n",
    "\n",
    "Заметим, что квадрат $\\phi_2(A)$ даёт нам в компонентах искомое значение $f(A) = -h(A_1 A_2 + A_2 A_1)$"
   ],
   "metadata": {
    "collapsed": false,
    "pycharm": {
     "name": "#%% md\n"
    }
   }
  },
  {
   "cell_type": "code",
   "execution_count": 7,
   "outputs": [
    {
     "data": {
      "text/plain": " 4      3       2   2      2                            2\nh  + 2⋅h ⋅A₁ + h ⋅A₁  - 2⋅h ⋅A₂ - h⋅A₁⋅A₂ - h⋅A₂⋅A₁ + A₂ ",
      "image/png": "[encoded data removed]",
      "text/latex": "$\\displaystyle h^{4} + 2 h^{3} A_{1} + h^{2} A_{1}^{2} - 2 h^{2} A_{2} - h A_{1} A_{2} - h A_{2} A_{1} + A_{2}^{2}$"
     },
     "execution_count": 7,
     "metadata": {},
     "output_type": "execute_result"
    }
   ],
   "source": [
    "((A2 - h*A1 - h**2)**2).expand()"
   ],
   "metadata": {
    "collapsed": false,
    "pycharm": {
     "name": "#%%\n"
    }
   }
  },
  {
   "cell_type": "markdown",
   "source": [
    "Поэтому, попробуем избавиться от остальных компонентов в данном выражении.\n",
    "Для этого предположим, что $\\rho(A)$ - полином следующего вида\n",
    "\n",
    "$$\\rho(A) = a_1 A_1^2 + A_2^2 + a_3 A_1 + a_4 A_2 + a_5 A_1 A_2 + a_6 A_2 A_1$$\n",
    "\n"
   ],
   "metadata": {
    "collapsed": false,
    "pycharm": {
     "name": "#%% md\n"
    }
   }
  },
  {
   "cell_type": "code",
   "execution_count": 8,
   "outputs": [
    {
     "data": {
      "text/plain": "     2                                           2\na₁⋅A₁  + a₃⋅A₁ + a₄⋅A₂ + a₅⋅A₁⋅A₂ + a₆⋅A₂⋅A₁ + A₂ ",
      "image/png": "[encoded data removed]",
      "text/latex": "$\\displaystyle a_{1} A_{1}^{2} + a_{3} A_{1} + a_{4} A_{2} + a_{5} A_{1} A_{2} + a_{6} A_{2} A_{1} + A_{2}^{2}$"
     },
     "execution_count": 8,
     "metadata": {},
     "output_type": "execute_result"
    }
   ],
   "source": [
    "a1, a2, a3, a4, a5, a6, a7 = sp.symbols(\",\".join([f'a_{i}' for i in range(1, 8)]), real=True)\n",
    "\n",
    "\n",
    "def rho(A1, A2):\n",
    "    return a1 * A1**2 + a2 * A1 * A2 + a3 * A2 * A1 + a4*A2**2 + a5 * A1 + a6 * A2 + a7\n",
    "\n",
    "def rho2(A1, A2):\n",
    "    return a1*A1**2 + A2**2 + a3 * A1 + a4*A2 + a5*A1*A2 + a6*A2*A1\n",
    "\n",
    "rho2(A1, A2)\n"
   ],
   "metadata": {
    "collapsed": false,
    "pycharm": {
     "name": "#%%\n"
    }
   }
  },
  {
   "cell_type": "markdown",
   "source": [
    "Выпишем $\\rho(\\phi(A)) - \\rho(A)$:"
   ],
   "metadata": {
    "collapsed": false,
    "pycharm": {
     "name": "#%% md\n"
    }
   }
  },
  {
   "cell_type": "code",
   "execution_count": 9,
   "outputs": [
    {
     "data": {
      "text/plain": "      2                            2                   3         2            \n4⋅a₁⋅h  + 4⋅a₁⋅h⋅A₁ + 2⋅a₃⋅h - a₄⋅h  - a₄⋅h⋅A₁ - 2⋅a₅⋅h  - 3⋅a₅⋅h ⋅A₁ - a₅⋅h⋅A\n\n 2                     3         2             2                4      3      \n₁  + 2⋅a₅⋅h⋅A₂ - 2⋅a₆⋅h  - 3⋅a₆⋅h ⋅A₁ - a₆⋅h⋅A₁  + 2⋅a₆⋅h⋅A₂ + h  + 2⋅h ⋅A₁ + \n\n 2   2      2                       \nh ⋅A₁  - 2⋅h ⋅A₂ - h⋅A₁⋅A₂ - h⋅A₂⋅A₁",
      "image/png": "[encoded data removed]",
      "text/latex": "$\\displaystyle 4 a_{1} h^{2} + 4 a_{1} h A_{1} + 2 a_{3} h - a_{4} h^{2} - a_{4} h A_{1} - 2 a_{5} h^{3} - 3 a_{5} h^{2} A_{1} - a_{5} h A_{1}^{2} + 2 a_{5} h A_{2} - 2 a_{6} h^{3} - 3 a_{6} h^{2} A_{1} - a_{6} h A_{1}^{2} + 2 a_{6} h A_{2} + h^{4} + 2 h^{3} A_{1} + h^{2} A_{1}^{2} - 2 h^{2} A_{2} - h A_{1} A_{2} - h A_{2} A_{1}$"
     },
     "execution_count": 9,
     "metadata": {},
     "output_type": "execute_result"
    }
   ],
   "source": [
    "(rho2(*phi(A1, A2)) - rho2(A1, A2)).expand()"
   ],
   "metadata": {
    "collapsed": false,
    "pycharm": {
     "name": "#%%\n"
    }
   }
  },
  {
   "cell_type": "markdown",
   "source": [
    "Далее, мы решили систему линейных уравнений относительно мономов, получив тем самым ограничения на коэффициенты $a_i$:\n",
    "* $a_5 + a_6 = h$\n",
    "* $a_4 = 4a_1 - h^2$\n",
    "* $a_3 = 0$\n",
    "\n",
    "Подставим их конкретные значения в $\\rho(\\phi(A)) - \\rho(A)$:"
   ],
   "metadata": {
    "collapsed": false,
    "pycharm": {
     "name": "#%% md\n"
    }
   }
  },
  {
   "cell_type": "code",
   "execution_count": 10,
   "outputs": [
    {
     "data": {
      "text/plain": "-h⋅A₁⋅A₂ - h⋅A₂⋅A₁",
      "image/png": "[encoded data removed]",
      "text/latex": "$\\displaystyle - h A_{1} A_{2} - h A_{2} A_{1}$"
     },
     "execution_count": 10,
     "metadata": {},
     "output_type": "execute_result"
    }
   ],
   "source": [
    "(rho2(*phi(A1, A2)) - rho2(A1, A2)).expand()\\\n",
    "    .subs({a1: 1, a3: 0, a4: 4 - h**2, a5: 0, a6: h}).expand()"
   ],
   "metadata": {
    "collapsed": false,
    "pycharm": {
     "name": "#%%\n"
    }
   }
  },
  {
   "cell_type": "markdown",
   "source": [
    "Получили, что $\\rho$ задаётся параметрическим семейством полиномов:\n",
    "\n",
    "$\\rho(A) = A_2^2 + b A_1^2+ a A_1 A_2 + (1 - a) A_2 A_1 + (4b - h^2) A_2, \\quad a, b \\in \\mathbb{R}$"
   ],
   "metadata": {
    "collapsed": false,
    "pycharm": {
     "name": "#%% md\n"
    }
   }
  },
  {
   "cell_type": "markdown",
   "source": [
    "В итоге, получим оператор Казимира как $\\hat K = \\hat B \\hat C - \\rho(\\hat A)$\n",
    "\n"
   ],
   "metadata": {
    "collapsed": false,
    "pycharm": {
     "name": "#%% md\n"
    }
   }
  },
  {
   "cell_type": "markdown",
   "source": [
    "## Задание 3\n",
    "\n",
    "Найти спектр коммутативной подалгебры, вычислив функции $\\mathbb{A}_a(n)$ и $F_a(n)$"
   ],
   "metadata": {
    "collapsed": false,
    "pycharm": {
     "name": "#%% md\n"
    }
   }
  },
  {
   "cell_type": "markdown",
   "source": [
    "#### 1. Вычисление $\\mathbb{A}_a(n)$\n",
    "\n",
    "$\\mathbb{A}_a(n) = \\phi^n(a)$\n",
    "\n",
    "Попробуем рассмотреть структуру функции при различных $n$."
   ],
   "metadata": {
    "collapsed": false,
    "pycharm": {
     "name": "#%% md\n"
    }
   }
  },
  {
   "cell_type": "code",
   "execution_count": 11,
   "outputs": [
    {
     "data": {
      "text/plain": "⎛             2            ⎞\n⎝2⋅h + A₁, - h  - h⋅A₁ + A₂⎠",
      "image/png": "[encoded data removed]",
      "text/latex": "$\\displaystyle \\left( 2 h + A_{1}, \\  - h^{2} - h A_{1} + A_{2}\\right)$"
     },
     "execution_count": 11,
     "metadata": {},
     "output_type": "execute_result"
    }
   ],
   "source": [
    "def phi_n(A1, A2, n):\n",
    "    a, b = phi(A1, A2)\n",
    "    if n <= 1:\n",
    "        return a, b.expand()\n",
    "    return phi_n(a, b, n-1)\n",
    "\n",
    "a, b = phi_n(A1, A2, 1)\n",
    "a, b"
   ],
   "metadata": {
    "collapsed": false,
    "pycharm": {
     "name": "#%%\n"
    }
   }
  },
  {
   "cell_type": "code",
   "execution_count": 12,
   "outputs": [
    {
     "data": {
      "text/plain": "⎛               2              ⎞\n⎝4⋅h + A₁, - 4⋅h  - 2⋅h⋅A₁ + A₂⎠",
      "image/png": "[encoded data removed]",
      "text/latex": "$\\displaystyle \\left( 4 h + A_{1}, \\  - 4 h^{2} - 2 h A_{1} + A_{2}\\right)$"
     },
     "execution_count": 12,
     "metadata": {},
     "output_type": "execute_result"
    }
   ],
   "source": [
    "a, b = phi_n(A1, A2, 2)\n",
    "a, b\n"
   ],
   "metadata": {
    "collapsed": false,
    "pycharm": {
     "name": "#%%\n"
    }
   }
  },
  {
   "cell_type": "code",
   "execution_count": 13,
   "outputs": [
    {
     "data": {
      "text/plain": "⎛               2              ⎞\n⎝6⋅h + A₁, - 9⋅h  - 3⋅h⋅A₁ + A₂⎠",
      "image/png": "[encoded data removed]",
      "text/latex": "$\\displaystyle \\left( 6 h + A_{1}, \\  - 9 h^{2} - 3 h A_{1} + A_{2}\\right)$"
     },
     "execution_count": 13,
     "metadata": {},
     "output_type": "execute_result"
    }
   ],
   "source": [
    "a, b = phi_n(A1, A2, 3)\n",
    "a, b"
   ],
   "metadata": {
    "collapsed": false,
    "pycharm": {
     "name": "#%%\n"
    }
   }
  },
  {
   "cell_type": "code",
   "execution_count": 14,
   "outputs": [
    {
     "data": {
      "text/plain": "⎛                2              ⎞\n⎝8⋅h + A₁, - 16⋅h  - 4⋅h⋅A₁ + A₂⎠",
      "image/png": "[encoded data removed]",
      "text/latex": "$\\displaystyle \\left( 8 h + A_{1}, \\  - 16 h^{2} - 4 h A_{1} + A_{2}\\right)$"
     },
     "execution_count": 14,
     "metadata": {},
     "output_type": "execute_result"
    }
   ],
   "source": [
    "a, b = phi_n(A1, A2, 4)\n",
    "a, b"
   ],
   "metadata": {
    "collapsed": false,
    "pycharm": {
     "name": "#%%\n"
    }
   }
  },
  {
   "cell_type": "markdown",
   "source": [
    "Подозрение падает на следующую структуру функции:\n",
    "\n",
    "$\\mathbb{A}_a(n) = (A_1 + 2nh,\\quad A_2 - nhA_1 - n^2h^2)$\n",
    "\n",
    "Если с большей частью коэффициентов всё очевидно, то член при $h^2$ задаётся следующим рекуррентным соотношением:\n",
    "$a_{n + 1} = a_n + 2n + 1$. Решим его.\n",
    "\n",
    "1. Характеристический многочлен однородного уравнения: $\\lambda - 1 = 0 \\implies \\lambda = 1 \\implies \\bar a_n = G \\cdot 1^n$\n",
    "2. Частное решение: $a_n = n(c_0 + c_1n) \\xrightarrow[]{n \\to \\ n + 1} 2c_1 n + c_1 + c_0 = 2n + 1$\n",
    "   * $c_1 = 1$\n",
    "   * $c_0 = -2$\n",
    "   * $\\tilde a_n = n^2 - 2$\n",
    "3. $a_n + G + n^2 - 2 \\xrightarrow[]{a_1 = 1}  2 + n^2 - 2 = n^2$\n",
    "\n",
    "Таким образом, уравнение для $\\mathbb{A}_a(n)$ верно.\n",
    "\n",
    "\n",
    "#### 2. Вычисление $F_a(n)$\n",
    "\n",
    "$F_a(n) = \\frac{1}{n + 1}\\sum_{j = 0}^n f(\\mathbb{A}_a(j))$\n",
    "\n",
    "Вычислим, для начала $f(\\mathbb{A})$"
   ],
   "metadata": {
    "collapsed": false,
    "pycharm": {
     "name": "#%% md\n"
    }
   }
  },
  {
   "cell_type": "code",
   "source": [
    "n = sp.Symbol(\"n\", integer=True, positive=True)\n",
    "\n",
    "A_a = A1 + 2*n*h, A2 - n*h*A1 - n**2 * h**2\n",
    "A_a"
   ],
   "metadata": {
    "collapsed": false,
    "pycharm": {
     "name": "#%%\n"
    }
   },
   "execution_count": 15,
   "outputs": [
    {
     "data": {
      "text/plain": "⎛               2  2              ⎞\n⎝2⋅h⋅n + A₁, - h ⋅n  - h⋅n⋅A₁ + A₂⎠",
      "image/png": "[encoded data removed]",
      "text/latex": "$\\displaystyle \\left( 2 h n + A_{1}, \\  - h^{2} n^{2} - h n A_{1} + A_{2}\\right)$"
     },
     "execution_count": 15,
     "metadata": {},
     "output_type": "execute_result"
    }
   ]
  },
  {
   "cell_type": "code",
   "execution_count": 16,
   "outputs": [
    {
     "data": {
      "text/plain": "  ⎛   3  3      2  2              2                           ⎞\nh⋅⎝4⋅h ⋅n  + 6⋅h ⋅n ⋅A₁ + 2⋅h⋅n⋅A₁  - 4⋅h⋅n⋅A₂ - A₁⋅A₂ - A₂⋅A₁⎠",
      "image/png": "[encoded data removed]",
      "text/latex": "$\\displaystyle h \\left(4 h^{3} n^{3} + 6 h^{2} n^{2} A_{1} + 2 h n A_{1}^{2} - 4 h n A_{2} - A_{1} A_{2} - A_{2} A_{1}\\right)$"
     },
     "execution_count": 16,
     "metadata": {},
     "output_type": "execute_result"
    }
   ],
   "source": [
    "def subs_n(v):\n",
    "    a, b = A_a\n",
    "    return a.subs(n, v), b.subs(n, v)\n",
    "\n",
    "def f(A1, A2):\n",
    "    return -h * (A1 * A2 + A2 * A1)\n",
    "\n",
    "fn = f(*A_a).simplify().expand().simplify()\n",
    "fn"
   ],
   "metadata": {
    "collapsed": false,
    "pycharm": {
     "name": "#%%\n"
    }
   }
  },
  {
   "cell_type": "markdown",
   "source": [
    "Перепишем для j:"
   ],
   "metadata": {
    "collapsed": false,
    "pycharm": {
     "name": "#%% md\n"
    }
   }
  },
  {
   "cell_type": "code",
   "execution_count": 19,
   "outputs": [
    {
     "data": {
      "text/plain": "   4  3      3  2         2     2      2                         \n4⋅h ⋅j  + 6⋅h ⋅j ⋅A₁ + 2⋅h ⋅j⋅A₁  - 4⋅h ⋅j⋅A₂ - h⋅A₁⋅A₂ - h⋅A₂⋅A₁",
      "image/png": "[encoded data removed]",
      "text/latex": "$\\displaystyle 4 h^{4} j^{3} + 6 h^{3} j^{2} A_{1} + 2 h^{2} j A_{1}^{2} - 4 h^{2} j A_{2} - h A_{1} A_{2} - h A_{2} A_{1}$"
     },
     "execution_count": 19,
     "metadata": {},
     "output_type": "execute_result"
    }
   ],
   "source": [
    "j = sp.Symbol(\"j\", integer=True, positive=True)\n",
    "fj = fn.subs(n, j)\n",
    "fj.expand()"
   ],
   "metadata": {
    "collapsed": false,
    "pycharm": {
     "name": "#%%\n"
    }
   }
  },
  {
   "cell_type": "markdown",
   "source": [
    "Как мы видим, сумма $F_a(n) = \\frac{1}{n + 1}\\sum_{j = 0}^n f(\\mathbb{A}_a(j))$ разбивается на много тривиальных сумм:\n",
    "\n",
    "$F_a(n) = \\frac{h}{n + 1}\\Big(4h^3 \\sum_j j^3 + 6h^2A_1 \\sum_j j^2 + 2hA_1^2 \\sum_j j - 4hA_2 \\sum_j j - n(A_1 A_2 + A_2 A_1)  \\Big)$\n",
    "\n",
    "* $\\sum_{j = 0}^m j^3 = \\frac{1}{4}n^2(n+1)^2$\n",
    "* $\\sum_{j = 0}^n j^2 = \\frac{1}{6}n(n + 1)(2n + 1)$\n",
    "* $\\sum_{j = 0}^n j = \\frac{1}{2}n(n + 1)$\n",
    "\n",
    "$F_a(n) = \\frac{h}{n + 1}\\Big(h^3n^2(n+1)^2 + h^2 n(n + 1)(2n + 1) A_1  + h n(n + 1) A_1^2 - 2hn(n + 1)A_2 - n(A_1 A_2 + A_2 A_1)  \\Big)$\n",
    "\n",
    "Раскроем внешнюю скобку\n",
    "\n",
    "$F_a(n) = h^4n^2(n+1) + h^3 n(2n + 1) A_1  + h^2 n A_1^2 - 2h^2nA_2 - \\frac{nh}{n + 1}(A_1 A_2 + A_2 A_1)$\n"
   ],
   "metadata": {
    "collapsed": false,
    "pycharm": {
     "name": "#%% md\n"
    }
   }
  }
 ],
 "metadata": {
  "kernelspec": {
   "display_name": "Python 3",
   "language": "python",
   "name": "python3"
  },
  "language_info": {
   "codemirror_mode": {
    "name": "ipython",
    "version": 2
   },
   "file_extension": ".py",
   "mimetype": "text/x-python",
   "name": "python",
   "nbconvert_exporter": "python",
   "pygments_lexer": "ipython2",
   "version": "2.7.6"
  }
 },
 "nbformat": 4,
 "nbformat_minor": 0
}